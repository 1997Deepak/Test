{
 "cells": [
  {
   "cell_type": "code",
   "execution_count": 3,
   "id": "3ef5ad9f",
   "metadata": {},
   "outputs": [],
   "source": [
    "n = \"Deepak\""
   ]
  },
  {
   "cell_type": "code",
   "execution_count": 4,
   "id": "94081a23",
   "metadata": {},
   "outputs": [
    {
     "data": {
      "text/plain": [
       "'Deepak'"
      ]
     },
     "execution_count": 4,
     "metadata": {},
     "output_type": "execute_result"
    }
   ],
   "source": [
    "n"
   ]
  },
  {
   "cell_type": "code",
   "execution_count": 5,
   "id": "6f1765ad",
   "metadata": {},
   "outputs": [],
   "source": [
    "ls = [n]"
   ]
  },
  {
   "cell_type": "code",
   "execution_count": 6,
   "id": "e6455d6f",
   "metadata": {},
   "outputs": [
    {
     "data": {
      "text/plain": [
       "['Deepak']"
      ]
     },
     "execution_count": 6,
     "metadata": {},
     "output_type": "execute_result"
    }
   ],
   "source": [
    "ls"
   ]
  },
  {
   "cell_type": "code",
   "execution_count": 7,
   "id": "c0963f88",
   "metadata": {},
   "outputs": [
    {
     "data": {
      "text/plain": [
       "'e'"
      ]
     },
     "execution_count": 7,
     "metadata": {},
     "output_type": "execute_result"
    }
   ],
   "source": [
    "n[1]"
   ]
  },
  {
   "cell_type": "code",
   "execution_count": 8,
   "id": "11cfd37e",
   "metadata": {},
   "outputs": [
    {
     "data": {
      "text/plain": [
       "'D'"
      ]
     },
     "execution_count": 8,
     "metadata": {},
     "output_type": "execute_result"
    }
   ],
   "source": [
    "n[0]"
   ]
  },
  {
   "cell_type": "code",
   "execution_count": 9,
   "id": "0ec4b1be",
   "metadata": {},
   "outputs": [
    {
     "data": {
      "text/plain": [
       "'a'"
      ]
     },
     "execution_count": 9,
     "metadata": {},
     "output_type": "execute_result"
    }
   ],
   "source": [
    "n[4]"
   ]
  },
  {
   "cell_type": "code",
   "execution_count": 10,
   "id": "2f6a767e",
   "metadata": {},
   "outputs": [
    {
     "data": {
      "text/plain": [
       "'k'"
      ]
     },
     "execution_count": 10,
     "metadata": {},
     "output_type": "execute_result"
    }
   ],
   "source": [
    "n[5]"
   ]
  },
  {
   "cell_type": "code",
   "execution_count": 11,
   "id": "9b4679b2",
   "metadata": {},
   "outputs": [],
   "source": [
    "d = 'Experience the advanced collaboration features of Zoom Pro when you upgrade today.'"
   ]
  },
  {
   "cell_type": "code",
   "execution_count": 12,
   "id": "d2ccc07f",
   "metadata": {},
   "outputs": [
    {
     "data": {
      "text/plain": [
       "82"
      ]
     },
     "execution_count": 12,
     "metadata": {},
     "output_type": "execute_result"
    }
   ],
   "source": [
    "len(d)"
   ]
  },
  {
   "cell_type": "code",
   "execution_count": 13,
   "id": "dd05eaf6",
   "metadata": {},
   "outputs": [
    {
     "data": {
      "text/plain": [
       "'e'"
      ]
     },
     "execution_count": 13,
     "metadata": {},
     "output_type": "execute_result"
    }
   ],
   "source": [
    "d[3]"
   ]
  },
  {
   "cell_type": "code",
   "execution_count": 19,
   "id": "d9a4e803",
   "metadata": {},
   "outputs": [
    {
     "data": {
      "text/plain": [
       "'Eeeehaaeclotneusfo'"
      ]
     },
     "execution_count": 19,
     "metadata": {},
     "output_type": "execute_result"
    }
   ],
   "source": [
    "d[0:54:3]"
   ]
  },
  {
   "cell_type": "code",
   "execution_count": 20,
   "id": "35577cfa",
   "metadata": {},
   "outputs": [
    {
     "data": {
      "text/plain": [
       "''"
      ]
     },
     "execution_count": 20,
     "metadata": {},
     "output_type": "execute_result"
    }
   ],
   "source": [
    "d[0:54:-1]"
   ]
  },
  {
   "cell_type": "code",
   "execution_count": 21,
   "id": "1cfeae79",
   "metadata": {},
   "outputs": [
    {
     "data": {
      "text/plain": [
       "''"
      ]
     },
     "execution_count": 21,
     "metadata": {},
     "output_type": "execute_result"
    }
   ],
   "source": [
    "d[0:0:-1]"
   ]
  },
  {
   "cell_type": "code",
   "execution_count": 22,
   "id": "8909cc12",
   "metadata": {},
   "outputs": [
    {
     "data": {
      "text/plain": [
       "'.yadot edargpu uoy nehw orP mooZ fo serutaef noitaroballoc decnavda eht ecneirepxE'"
      ]
     },
     "execution_count": 22,
     "metadata": {},
     "output_type": "execute_result"
    }
   ],
   "source": [
    "d[::-1]"
   ]
  },
  {
   "cell_type": "code",
   "execution_count": 23,
   "id": "ee516ece",
   "metadata": {},
   "outputs": [
    {
     "data": {
      "text/plain": [
       "'.ao drp o ewoPmo osrte otrblo envaeteniex'"
      ]
     },
     "execution_count": 23,
     "metadata": {},
     "output_type": "execute_result"
    }
   ],
   "source": [
    "d[::-2]"
   ]
  },
  {
   "cell_type": "code",
   "execution_count": 24,
   "id": "3e89e3b2",
   "metadata": {},
   "outputs": [],
   "source": [
    "s1 = 'madridgmail.com'"
   ]
  },
  {
   "cell_type": "code",
   "execution_count": 27,
   "id": "a45754c1",
   "metadata": {},
   "outputs": [
    {
     "data": {
      "text/plain": [
       "'madrid'"
      ]
     },
     "execution_count": 27,
     "metadata": {},
     "output_type": "execute_result"
    }
   ],
   "source": [
    "s1 [0:6]"
   ]
  },
  {
   "cell_type": "code",
   "execution_count": 31,
   "id": "9cc3923d",
   "metadata": {},
   "outputs": [
    {
     "data": {
      "text/plain": [
       "15"
      ]
     },
     "execution_count": 31,
     "metadata": {},
     "output_type": "execute_result"
    }
   ],
   "source": [
    "len(s1)"
   ]
  },
  {
   "cell_type": "code",
   "execution_count": 32,
   "id": "56f9a32c",
   "metadata": {},
   "outputs": [
    {
     "data": {
      "text/plain": [
       "'gmail.com'"
      ]
     },
     "execution_count": 32,
     "metadata": {},
     "output_type": "execute_result"
    }
   ],
   "source": [
    "s1 [6:]"
   ]
  },
  {
   "cell_type": "code",
   "execution_count": 34,
   "id": "9a816a83",
   "metadata": {},
   "outputs": [
    {
     "data": {
      "text/plain": [
       "'madrid@gmail.com'"
      ]
     },
     "execution_count": 34,
     "metadata": {},
     "output_type": "execute_result"
    }
   ],
   "source": [
    "s1[0:6] + '@' + s1[6:]"
   ]
  },
  {
   "cell_type": "code",
   "execution_count": 35,
   "id": "9e041f1c",
   "metadata": {},
   "outputs": [],
   "source": [
    "n1 = 'Ranjeet'"
   ]
  },
  {
   "cell_type": "code",
   "execution_count": 36,
   "id": "543f0708",
   "metadata": {},
   "outputs": [
    {
     "data": {
      "text/plain": [
       "'Ranjeet'"
      ]
     },
     "execution_count": 36,
     "metadata": {},
     "output_type": "execute_result"
    }
   ],
   "source": [
    "n1"
   ]
  },
  {
   "cell_type": "code",
   "execution_count": 41,
   "id": "da6cbadf",
   "metadata": {},
   "outputs": [
    {
     "name": "stdout",
     "output_type": "stream",
     "text": [
      "Enter your nameOmkar\n"
     ]
    },
    {
     "data": {
      "text/plain": [
       "'Ranjeet Deepak Deepak Deepak Deepak Omkar'"
      ]
     },
     "execution_count": 41,
     "metadata": {},
     "output_type": "execute_result"
    }
   ],
   "source": [
    "n1 = n1 + ' ' + input('Enter your name')\n",
    "n1"
   ]
  },
  {
   "cell_type": "code",
   "execution_count": 42,
   "id": "edf045da",
   "metadata": {},
   "outputs": [
    {
     "name": "stdout",
     "output_type": "stream",
     "text": [
      "Enter your nameNeeraj\n"
     ]
    },
    {
     "data": {
      "text/plain": [
       "'Ranjeet Deepak Deepak Deepak Deepak Omkar Neeraj'"
      ]
     },
     "execution_count": 42,
     "metadata": {},
     "output_type": "execute_result"
    }
   ],
   "source": [
    "n1 = n1 + ' ' + input('Enter your name')\n",
    "n1"
   ]
  },
  {
   "cell_type": "code",
   "execution_count": 43,
   "id": "9f242b4e",
   "metadata": {},
   "outputs": [
    {
     "ename": "SyntaxError",
     "evalue": "invalid syntax (3346841266.py, line 2)",
     "output_type": "error",
     "traceback": [
      "\u001b[1;36m  Input \u001b[1;32mIn [43]\u001b[1;36m\u001b[0m\n\u001b[1;33m    n2 + ' ' +\u001b[0m\n\u001b[1;37m               ^\u001b[0m\n\u001b[1;31mSyntaxError\u001b[0m\u001b[1;31m:\u001b[0m invalid syntax\n"
     ]
    }
   ],
   "source": [
    "n2 = input('Enter your name')\n",
    "n2 + ' ' + \n",
    "n2"
   ]
  },
  {
   "cell_type": "code",
   "execution_count": 44,
   "id": "0d55107b",
   "metadata": {},
   "outputs": [],
   "source": [
    "ls = ['anita','kanika','manoj','hemant','jeet']"
   ]
  },
  {
   "cell_type": "code",
   "execution_count": 45,
   "id": "9d7c6489",
   "metadata": {},
   "outputs": [
    {
     "data": {
      "text/plain": [
       "['anita', 'kanika', 'manoj', 'hemant', 'jeet']"
      ]
     },
     "execution_count": 45,
     "metadata": {},
     "output_type": "execute_result"
    }
   ],
   "source": [
    "ls"
   ]
  },
  {
   "cell_type": "code",
   "execution_count": 47,
   "id": "1b1ab531",
   "metadata": {},
   "outputs": [
    {
     "data": {
      "text/plain": [
       "['anita', 'kanika', 'Manish', 'Manish', 'manoj', 'hemant', 'jeet']"
      ]
     },
     "execution_count": 47,
     "metadata": {},
     "output_type": "execute_result"
    }
   ],
   "source": [
    "ls = ls [0:2] + ['Manish'] + ls [2:]\n",
    "ls"
   ]
  },
  {
   "cell_type": "code",
   "execution_count": 49,
   "id": "9e806eb8",
   "metadata": {},
   "outputs": [
    {
     "data": {
      "text/plain": [
       "['anita', 'kanika', 'Manish', 'Manish', 'manoj', 'hemant', 'jeet']"
      ]
     },
     "execution_count": 49,
     "metadata": {},
     "output_type": "execute_result"
    }
   ],
   "source": [
    "Del = ls [-1] + ['Abhijeet']\n",
    "ls"
   ]
  },
  {
   "cell_type": "code",
   "execution_count": 50,
   "id": "58619c76",
   "metadata": {},
   "outputs": [],
   "source": [
    "del ls [-1]"
   ]
  },
  {
   "cell_type": "code",
   "execution_count": 51,
   "id": "c5b5f7c1",
   "metadata": {},
   "outputs": [
    {
     "data": {
      "text/plain": [
       "['anita', 'kanika', 'Manish', 'Manish', 'manoj', 'hemant']"
      ]
     },
     "execution_count": 51,
     "metadata": {},
     "output_type": "execute_result"
    }
   ],
   "source": [
    "ls"
   ]
  },
  {
   "cell_type": "code",
   "execution_count": 52,
   "id": "adc5a9c5",
   "metadata": {},
   "outputs": [
    {
     "data": {
      "text/plain": [
       "['anita', 'kanika', 'Manish', 'Manish', 'manoj', 'hemant', 'Abhijeet']"
      ]
     },
     "execution_count": 52,
     "metadata": {},
     "output_type": "execute_result"
    }
   ],
   "source": [
    "ls = ls + ['Abhijeet']\n",
    "ls"
   ]
  },
  {
   "cell_type": "code",
   "execution_count": 53,
   "id": "6abba28d",
   "metadata": {},
   "outputs": [
    {
     "data": {
      "text/plain": [
       "['anita', 'kanika', 'Manish', 'Manish', 'manoj', 'hemant', 'Abhijeet']"
      ]
     },
     "execution_count": 53,
     "metadata": {},
     "output_type": "execute_result"
    }
   ],
   "source": [
    "ls"
   ]
  },
  {
   "cell_type": "code",
   "execution_count": 54,
   "id": "a6f6e06e",
   "metadata": {},
   "outputs": [],
   "source": [
    "del ls [-1]"
   ]
  },
  {
   "cell_type": "code",
   "execution_count": 55,
   "id": "1d189b3f",
   "metadata": {},
   "outputs": [],
   "source": [
    "ls = ls + ['jeet']"
   ]
  },
  {
   "cell_type": "code",
   "execution_count": 56,
   "id": "67aaa9be",
   "metadata": {},
   "outputs": [
    {
     "data": {
      "text/plain": [
       "['anita', 'kanika', 'Manish', 'Manish', 'manoj', 'hemant', 'jeet']"
      ]
     },
     "execution_count": 56,
     "metadata": {},
     "output_type": "execute_result"
    }
   ],
   "source": [
    "ls"
   ]
  },
  {
   "cell_type": "code",
   "execution_count": 58,
   "id": "31b100eb",
   "metadata": {},
   "outputs": [],
   "source": [
    "s3 = (ls)"
   ]
  },
  {
   "cell_type": "code",
   "execution_count": 59,
   "id": "11e5d760",
   "metadata": {},
   "outputs": [
    {
     "data": {
      "text/plain": [
       "['anita', 'kanika', 'Manish', 'Manish', 'manoj', 'hemant', 'jeet']"
      ]
     },
     "execution_count": 59,
     "metadata": {},
     "output_type": "execute_result"
    }
   ],
   "source": [
    "s3"
   ]
  },
  {
   "cell_type": "code",
   "execution_count": 64,
   "id": "26766953",
   "metadata": {},
   "outputs": [
    {
     "data": {
      "text/plain": [
       "str"
      ]
     },
     "execution_count": 64,
     "metadata": {},
     "output_type": "execute_result"
    }
   ],
   "source": [
    "ls"
   ]
  },
  {
   "cell_type": "code",
   "execution_count": 62,
   "id": "5da12de2",
   "metadata": {},
   "outputs": [],
   "source": []
  },
  {
   "cell_type": "code",
   "execution_count": 88,
   "id": "c4def027",
   "metadata": {},
   "outputs": [
    {
     "name": "stdout",
     "output_type": "stream",
     "text": [
      "anita kanika Manish Manish manoj hemant jeet\n"
     ]
    }
   ],
   "source": [
    "ls = ['anita', 'kanika', 'Manish', 'Manish', 'manoj', 'hemant', 'jeet']\n",
    "print(' '.join(ls))"
   ]
  },
  {
   "cell_type": "code",
   "execution_count": 89,
   "id": "2b910794",
   "metadata": {},
   "outputs": [
    {
     "data": {
      "text/plain": [
       "['anita', 'kanika', 'Manish', 'Manish', 'manoj', 'hemant', 'jeet']"
      ]
     },
     "execution_count": 89,
     "metadata": {},
     "output_type": "execute_result"
    }
   ],
   "source": [
    "ls"
   ]
  },
  {
   "cell_type": "code",
   "execution_count": 92,
   "id": "6ead1096",
   "metadata": {},
   "outputs": [],
   "source": [
    "s3 = str(ls)"
   ]
  },
  {
   "cell_type": "code",
   "execution_count": 93,
   "id": "ce9b56d2",
   "metadata": {},
   "outputs": [
    {
     "data": {
      "text/plain": [
       "\"['anita', 'kanika', 'Manish', 'Manish', 'manoj', 'hemant', 'jeet']\""
      ]
     },
     "execution_count": 93,
     "metadata": {},
     "output_type": "execute_result"
    }
   ],
   "source": [
    "\n"
   ]
  },
  {
   "cell_type": "code",
   "execution_count": 94,
   "id": "04fed618",
   "metadata": {},
   "outputs": [
    {
     "data": {
      "text/plain": [
       "'jeet'"
      ]
     },
     "execution_count": 94,
     "metadata": {},
     "output_type": "execute_result"
    }
   ],
   "source": [
    "ls[6]\n",
    "\n"
   ]
  },
  {
   "cell_type": "code",
   "execution_count": 95,
   "id": "90846731",
   "metadata": {},
   "outputs": [],
   "source": [
    "ls[6]='abhi'+ls[6]"
   ]
  },
  {
   "cell_type": "code",
   "execution_count": 96,
   "id": "e42e72c5",
   "metadata": {},
   "outputs": [
    {
     "data": {
      "text/plain": [
       "['anita', 'kanika', 'Manish', 'Manish', 'manoj', 'hemant', 'abhijeet']"
      ]
     },
     "execution_count": 96,
     "metadata": {},
     "output_type": "execute_result"
    }
   ],
   "source": [
    "ls"
   ]
  },
  {
   "cell_type": "code",
   "execution_count": 101,
   "id": "3cd2f9ac",
   "metadata": {},
   "outputs": [
    {
     "name": "stdout",
     "output_type": "stream",
     "text": [
      "Enter the Year 2000\n",
      "2000  is a leap year\n"
     ]
    }
   ],
   "source": [
    "n = int(input('Enter the Year '))\n",
    "if (n%4==0):\n",
    "    print (n,' is a leap year')\n",
    "else:\n",
    "    print (n, ' is not a leap year')"
   ]
  },
  {
   "cell_type": "code",
   "execution_count": 107,
   "id": "9391dde5",
   "metadata": {},
   "outputs": [
    {
     "name": "stdout",
     "output_type": "stream",
     "text": [
      "Enter your number6\n",
      "Today is Friday\n"
     ]
    }
   ],
   "source": [
    "w = int(input('Enter your number'))\n",
    "if w == 1:\n",
    "    print('Today is Sunday')\n",
    "elif w == 2:\n",
    "    print('Today is Monday')\n",
    "elif w == 3:\n",
    "    print('Today is Tuesday')\n",
    "elif w == 4:\n",
    "    print('Today is Wednesday')\n",
    "elif w == 5:\n",
    "    print('Today is Thursday')\n",
    "elif w == 6:\n",
    "    print('Today is Friday')\n",
    "elif w == 7:\n",
    "    print('Today is Saturday')"
   ]
  },
  {
   "cell_type": "code",
   "execution_count": null,
   "id": "4e5467d9",
   "metadata": {},
   "outputs": [],
   "source": [
    "m = int(input('Enter your number'))\n",
    "if m == 1:\n",
    "    print('This is January')\n",
    "    print('31 days in this Month')\n",
    "elif m == 2:\n",
    "    print('This is Febrary')\n",
    "    print('28 days in this Month')\n",
    "elif m == 3:\n",
    "    print('This is March')\n",
    "    print('31 days in this Month')\n",
    "elif m == 4:\n",
    "    print('This is April')\n",
    "    print('30 days in this Month')\n",
    "elif m == 5:\n",
    "    print('This is May')\n",
    "    print('31 days in this Month')\n",
    "elif m == 6:\n",
    "    print('This is June')\n",
    "    print('30 days in this Month')\n",
    "elif m == 7:\n",
    "    print('This is July')\n",
    "    print('31 days in this Month')\n",
    "elif m == 8:\n",
    "    print('This is August')\n",
    "    print('31 days in this Month')\n",
    "elif m == 9:\n",
    "    print('This is September')\n",
    "    print('30 days in this Month')\n",
    "elif m == 10:\n",
    "    print('This is October')\n",
    "    print('31 days in this Month')\n",
    "elif m == 11:\n",
    "    print('This is November')\n",
    "    print('30 days in this Month')\n",
    "elif m == 12:\n",
    "    print('This is December')\n",
    "    print('31 days in this Month')"
   ]
  }
 ],
 "metadata": {
  "kernelspec": {
   "display_name": "Python 3 (ipykernel)",
   "language": "python",
   "name": "python3"
  },
  "language_info": {
   "codemirror_mode": {
    "name": "ipython",
    "version": 3
   },
   "file_extension": ".py",
   "mimetype": "text/x-python",
   "name": "python",
   "nbconvert_exporter": "python",
   "pygments_lexer": "ipython3",
   "version": "3.10.2"
  }
 },
 "nbformat": 4,
 "nbformat_minor": 5
}
