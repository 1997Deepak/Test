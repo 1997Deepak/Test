{
 "cells": [
  {
   "cell_type": "code",
   "execution_count": 2,
   "id": "04c49fe3",
   "metadata": {},
   "outputs": [
    {
     "ename": "SyntaxError",
     "evalue": "invalid syntax (1480003143.py, line 9)",
     "output_type": "error",
     "traceback": [
      "\u001b[1;36m  Input \u001b[1;32mIn [2]\u001b[1;36m\u001b[0m\n\u001b[1;33m    if\u001b[0m\n\u001b[1;37m      ^\u001b[0m\n\u001b[1;31mSyntaxError\u001b[0m\u001b[1;31m:\u001b[0m invalid syntax\n"
     ]
    }
   ],
   "source": [
    "# Quadratic Equation\n",
    "\n",
    "a = 4\n",
    "b = 12\n",
    "c = 3\n",
    "\n",
    "if a == 0:\n",
    "    print('a != 0')\n",
    "else:\n",
    "    d = b**2 - 4*a*c\n",
    "    if d>0:\n",
    "        r1 = round((-b + d**0.5)/(2*a),3)\n",
    "        r2 = round((-b - d**0.5)/(2*a),3)"
   ]
  },
  {
   "cell_type": "code",
   "execution_count": 8,
   "id": "4146d85f",
   "metadata": {},
   "outputs": [
    {
     "ename": "SyntaxError",
     "evalue": "expected ':' (1089095824.py, line 6)",
     "output_type": "error",
     "traceback": [
      "\u001b[1;36m  Input \u001b[1;32mIn [8]\u001b[1;36m\u001b[0m\n\u001b[1;33m    else u>200 and u<=200:\u001b[0m\n\u001b[1;37m         ^\u001b[0m\n\u001b[1;31mSyntaxError\u001b[0m\u001b[1;31m:\u001b[0m expected ':'\n"
     ]
    }
   ],
   "source": [
    "u = float(input('units '))\n",
    "if u<=100:\n",
    "    print('No Dues')\n",
    "elif u>100 and u<=200:\n",
    "    print('Your Bill',(u - 100)*3.5)\n",
    "else u>200 and u<=200:\n",
    "    print('Your Bill',(u - 200)*7)"
   ]
  },
  {
   "cell_type": "code",
   "execution_count": 9,
   "id": "69570c2c",
   "metadata": {},
   "outputs": [],
   "source": [
    "p = 1500"
   ]
  },
  {
   "cell_type": "code",
   "execution_count": 10,
   "id": "06fd0ec7",
   "metadata": {},
   "outputs": [
    {
     "data": {
      "text/plain": [
       "1350.0"
      ]
     },
     "execution_count": 10,
     "metadata": {},
     "output_type": "execute_result"
    }
   ],
   "source": [
    "p*0.9"
   ]
  },
  {
   "cell_type": "code",
   "execution_count": null,
   "id": "b0d36081",
   "metadata": {},
   "outputs": [],
   "source": [
    "for var in "
   ]
  }
 ],
 "metadata": {
  "kernelspec": {
   "display_name": "Python 3 (ipykernel)",
   "language": "python",
   "name": "python3"
  },
  "language_info": {
   "codemirror_mode": {
    "name": "ipython",
    "version": 3
   },
   "file_extension": ".py",
   "mimetype": "text/x-python",
   "name": "python",
   "nbconvert_exporter": "python",
   "pygments_lexer": "ipython3",
   "version": "3.10.2"
  }
 },
 "nbformat": 4,
 "nbformat_minor": 5
}
