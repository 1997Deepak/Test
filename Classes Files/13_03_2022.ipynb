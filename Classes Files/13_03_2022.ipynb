{
 "cells": [
  {
   "cell_type": "code",
   "execution_count": 4,
   "id": "fb602f4e",
   "metadata": {},
   "outputs": [
    {
     "name": "stdout",
     "output_type": "stream",
     "text": [
      "Enter Your Marks ? 200\n"
     ]
    }
   ],
   "source": [
    "marks = float(input(\"Enter Your Marks ? \"))\n",
    "if marks<40:\n",
    "    print('Fail')\n",
    "elif marks>=40 and marks<50:\n",
    "    print('Grade D')\n",
    "elif marks>=50 and marks<60:\n",
    "    print('Grade C')\n",
    "elif marks>=60 and marks<70:\n",
    "    print('Grade B')\n",
    "elif marks>=70 and marks<80:\n",
    "    print('Grade B++')\n",
    "elif marks>=80 and marks<90:\n",
    "    print('grade A')\n",
    "elif marks>=90 and marks<=100:\n",
    "    print('grade A++')"
   ]
  },
  {
   "cell_type": "code",
   "execution_count": 5,
   "id": "74507be2",
   "metadata": {},
   "outputs": [
    {
     "name": "stdout",
     "output_type": "stream",
     "text": [
      "Enter Your Marks ? 76\n",
      "Grade B++\n"
     ]
    }
   ],
   "source": [
    "marks = float(input(\"Enter Your Marks ? \"))\n",
    "if marks<40:\n",
    "    print('Fail')\n",
    "else:\n",
    "    if marks>=40 and marks<50:\n",
    "        print('Grade D')\n",
    "    elif marks>=50 and marks<60:\n",
    "        print('Grade C')\n",
    "    elif marks>=60 and marks<70:\n",
    "        print('Grade B')\n",
    "    elif marks>=70 and marks<80:\n",
    "        print('Grade B++')\n",
    "    elif marks>=80 and marks<90:\n",
    "        print('grade A')\n",
    "    elif marks>=90 and marks<=100:\n",
    "        print('grade A++')"
   ]
  },
  {
   "cell_type": "code",
   "execution_count": 6,
   "id": "758ecfe5",
   "metadata": {},
   "outputs": [
    {
     "name": "stdout",
     "output_type": "stream",
     "text": [
      "-0.12917130661302934 -3.8708286933869704\n"
     ]
    }
   ],
   "source": [
    "a = 2\n",
    "b = 8\n",
    "c = 1\n",
    "\n",
    "if a == 0:\n",
    "    print('a != 0')\n",
    "else:\n",
    "    d = b**2 - 4*a*c\n",
    "    if d>0:\n",
    "        r1 = round((-b + d**0.5)/(2*a),2)\n",
    "        r2 = round((-b - d**0.5)/(2*a),2)\n",
    "        print(r1,r2)\n",
    "    elif d == 0:\n",
    "        r1 = (-b)/(2*a)\n",
    "        print(round(r1,2))"
   ]
  },
  {
   "cell_type": "code",
   "execution_count": 7,
   "id": "7d75e595",
   "metadata": {},
   "outputs": [
    {
     "data": {
      "text/plain": [
       "0"
      ]
     },
     "execution_count": 7,
     "metadata": {},
     "output_type": "execute_result"
    }
   ],
   "source": [
    "round(0.12917130661302934)"
   ]
  },
  {
   "cell_type": "code",
   "execution_count": 9,
   "id": "4ca68ddc",
   "metadata": {},
   "outputs": [
    {
     "data": {
      "text/plain": [
       "3.87"
      ]
     },
     "execution_count": 9,
     "metadata": {},
     "output_type": "execute_result"
    }
   ],
   "source": [
    "round(3.8708286933869704,2)"
   ]
  },
  {
   "cell_type": "code",
   "execution_count": 11,
   "id": "7c48574c",
   "metadata": {},
   "outputs": [
    {
     "data": {
      "text/plain": [
       "-6.5"
      ]
     },
     "execution_count": 11,
     "metadata": {},
     "output_type": "execute_result"
    }
   ],
   "source": [
    "a,b,c = 2,3,4\n",
    "(-b + (b**2 - 4*a*c))/(2*a)"
   ]
  },
  {
   "cell_type": "code",
   "execution_count": 12,
   "id": "5d7fb49c",
   "metadata": {},
   "outputs": [
    {
     "name": "stdout",
     "output_type": "stream",
     "text": [
      "Age ? 2\n"
     ]
    }
   ],
   "source": [
    "age = int(input('Age ? '))\n",
    "if age>=18:\n",
    "    pass\n",
    "else:\n",
    "    pass"
   ]
  },
  {
   "cell_type": "code",
   "execution_count": 13,
   "id": "975f1324",
   "metadata": {},
   "outputs": [
    {
     "name": "stdout",
     "output_type": "stream",
     "text": [
      "Age ? 3\n",
      "you are not eligiable for vote \n"
     ]
    }
   ],
   "source": [
    "age = int(input('Age ? '))\n",
    "if age>=18:\n",
    "    print('you are eligiable for vote ')\n",
    "else:\n",
    "    print('you are not eligiable for vote ')"
   ]
  },
  {
   "cell_type": "code",
   "execution_count": 14,
   "id": "cfbf0113",
   "metadata": {},
   "outputs": [],
   "source": [
    "# n%3 == 0 or n%5 == 0"
   ]
  },
  {
   "cell_type": "code",
   "execution_count": 17,
   "id": "6424cfe8",
   "metadata": {},
   "outputs": [
    {
     "name": "stdout",
     "output_type": "stream",
     "text": [
      "15\n",
      "30\n",
      "45\n",
      "60\n",
      "75\n",
      "90\n"
     ]
    }
   ],
   "source": [
    "for n in range(1,101):\n",
    "    if n%3 == 0 and n%5 == 0:\n",
    "        print(n)"
   ]
  },
  {
   "cell_type": "code",
   "execution_count": 18,
   "id": "a140ef2a",
   "metadata": {},
   "outputs": [
    {
     "data": {
      "text/plain": [
       "99"
      ]
     },
     "execution_count": 18,
     "metadata": {},
     "output_type": "execute_result"
    }
   ],
   "source": [
    "99"
   ]
  },
  {
   "cell_type": "code",
   "execution_count": 19,
   "id": "6e0298e5",
   "metadata": {},
   "outputs": [
    {
     "data": {
      "text/plain": [
       "250"
      ]
     },
     "execution_count": 19,
     "metadata": {},
     "output_type": "execute_result"
    }
   ],
   "source": [
    "(150 - 100)*5"
   ]
  },
  {
   "cell_type": "code",
   "execution_count": 20,
   "id": "b87a4818",
   "metadata": {},
   "outputs": [
    {
     "data": {
      "text/plain": [
       "500"
      ]
     },
     "execution_count": 20,
     "metadata": {},
     "output_type": "execute_result"
    }
   ],
   "source": [
    "(200 - 100)*5"
   ]
  },
  {
   "cell_type": "code",
   "execution_count": 21,
   "id": "9533430c",
   "metadata": {},
   "outputs": [
    {
     "data": {
      "text/plain": [
       "2000"
      ]
     },
     "execution_count": 21,
     "metadata": {},
     "output_type": "execute_result"
    }
   ],
   "source": [
    "500+(350 - 200)*10"
   ]
  },
  {
   "cell_type": "code",
   "execution_count": 22,
   "id": "1278f9a8",
   "metadata": {},
   "outputs": [
    {
     "name": "stdout",
     "output_type": "stream",
     "text": [
      "units 350\n",
      "bill =  2000.0\n"
     ]
    }
   ],
   "source": [
    "u = float(input('units '))\n",
    "if u<=100:\n",
    "    print('no charge')\n",
    "elif u>100 and u<=200:\n",
    "    print('bill = ', (u - 100)*5)\n",
    "else:\n",
    "    print('bill = ', 500 + (u - 200)*10)"
   ]
  },
  {
   "cell_type": "code",
   "execution_count": 23,
   "id": "f40633fc",
   "metadata": {},
   "outputs": [
    {
     "data": {
      "text/plain": [
       "6"
      ]
     },
     "execution_count": 23,
     "metadata": {},
     "output_type": "execute_result"
    }
   ],
   "source": [
    "72637236%10"
   ]
  },
  {
   "cell_type": "code",
   "execution_count": 24,
   "id": "d2703bd4",
   "metadata": {},
   "outputs": [
    {
     "data": {
      "text/plain": [
       "12345.6"
      ]
     },
     "execution_count": 24,
     "metadata": {},
     "output_type": "execute_result"
    }
   ],
   "source": [
    "123456/10"
   ]
  },
  {
   "cell_type": "code",
   "execution_count": 25,
   "id": "6338ccb3",
   "metadata": {},
   "outputs": [
    {
     "data": {
      "text/plain": [
       "12345"
      ]
     },
     "execution_count": 25,
     "metadata": {},
     "output_type": "execute_result"
    }
   ],
   "source": [
    "123456//10"
   ]
  },
  {
   "cell_type": "code",
   "execution_count": 26,
   "id": "d1658a75",
   "metadata": {},
   "outputs": [
    {
     "data": {
      "text/plain": [
       "6"
      ]
     },
     "execution_count": 26,
     "metadata": {},
     "output_type": "execute_result"
    }
   ],
   "source": [
    "123456%10"
   ]
  },
  {
   "cell_type": "code",
   "execution_count": 27,
   "id": "1698ae93",
   "metadata": {},
   "outputs": [
    {
     "data": {
      "text/plain": [
       "56"
      ]
     },
     "execution_count": 27,
     "metadata": {},
     "output_type": "execute_result"
    }
   ],
   "source": [
    "123456%100"
   ]
  },
  {
   "cell_type": "code",
   "execution_count": 28,
   "id": "b42bbc8a",
   "metadata": {},
   "outputs": [
    {
     "data": {
      "text/plain": [
       "345.6"
      ]
     },
     "execution_count": 28,
     "metadata": {},
     "output_type": "execute_result"
    }
   ],
   "source": [
    "p = 3456\n",
    "(p*10)/100"
   ]
  },
  {
   "cell_type": "code",
   "execution_count": 29,
   "id": "87753ab8",
   "metadata": {},
   "outputs": [
    {
     "data": {
      "text/plain": [
       "3801.6"
      ]
     },
     "execution_count": 29,
     "metadata": {},
     "output_type": "execute_result"
    }
   ],
   "source": [
    "p + (p*10)/100"
   ]
  },
  {
   "cell_type": "code",
   "execution_count": 30,
   "id": "36a38319",
   "metadata": {},
   "outputs": [
    {
     "data": {
      "text/plain": [
       "3110.4"
      ]
     },
     "execution_count": 30,
     "metadata": {},
     "output_type": "execute_result"
    }
   ],
   "source": [
    "p - (p*10)/100"
   ]
  },
  {
   "cell_type": "code",
   "execution_count": 31,
   "id": "2d7fed1f",
   "metadata": {},
   "outputs": [
    {
     "data": {
      "text/plain": [
       "3801.6000000000004"
      ]
     },
     "execution_count": 31,
     "metadata": {},
     "output_type": "execute_result"
    }
   ],
   "source": [
    "p*(1 + 10/100)"
   ]
  },
  {
   "cell_type": "code",
   "execution_count": 32,
   "id": "c7c25099",
   "metadata": {},
   "outputs": [
    {
     "data": {
      "text/plain": [
       "1.1"
      ]
     },
     "execution_count": 32,
     "metadata": {},
     "output_type": "execute_result"
    }
   ],
   "source": [
    "(1 + 10/100)"
   ]
  },
  {
   "cell_type": "code",
   "execution_count": 33,
   "id": "17fad27c",
   "metadata": {},
   "outputs": [
    {
     "data": {
      "text/plain": [
       "1.02"
      ]
     },
     "execution_count": 33,
     "metadata": {},
     "output_type": "execute_result"
    }
   ],
   "source": [
    "(1 + 2/100)"
   ]
  },
  {
   "cell_type": "code",
   "execution_count": 34,
   "id": "d81d1fd8",
   "metadata": {},
   "outputs": [
    {
     "data": {
      "text/plain": [
       "3456"
      ]
     },
     "execution_count": 34,
     "metadata": {},
     "output_type": "execute_result"
    }
   ],
   "source": [
    "p"
   ]
  },
  {
   "cell_type": "code",
   "execution_count": 35,
   "id": "716fa50c",
   "metadata": {},
   "outputs": [
    {
     "data": {
      "text/plain": [
       "3525.12"
      ]
     },
     "execution_count": 35,
     "metadata": {},
     "output_type": "execute_result"
    }
   ],
   "source": [
    "p*1.02"
   ]
  },
  {
   "cell_type": "code",
   "execution_count": 36,
   "id": "c486a6f1",
   "metadata": {},
   "outputs": [
    {
     "data": {
      "text/plain": [
       "345.6"
      ]
     },
     "execution_count": 36,
     "metadata": {},
     "output_type": "execute_result"
    }
   ],
   "source": [
    "p*0.1"
   ]
  },
  {
   "cell_type": "code",
   "execution_count": 37,
   "id": "41387b69",
   "metadata": {},
   "outputs": [
    {
     "data": {
      "text/plain": [
       "3110.4"
      ]
     },
     "execution_count": 37,
     "metadata": {},
     "output_type": "execute_result"
    }
   ],
   "source": [
    "p*0.9"
   ]
  },
  {
   "cell_type": "code",
   "execution_count": 38,
   "id": "6c209615",
   "metadata": {},
   "outputs": [
    {
     "data": {
      "text/plain": [
       "800.0"
      ]
     },
     "execution_count": 38,
     "metadata": {},
     "output_type": "execute_result"
    }
   ],
   "source": [
    "1000*0.8"
   ]
  },
  {
   "cell_type": "code",
   "execution_count": 39,
   "id": "3ebbd628",
   "metadata": {},
   "outputs": [
    {
     "data": {
      "text/plain": [
       "1.995"
      ]
     },
     "execution_count": 39,
     "metadata": {},
     "output_type": "execute_result"
    }
   ],
   "source": [
    "665*0.003"
   ]
  },
  {
   "cell_type": "code",
   "execution_count": 40,
   "id": "5c99b344",
   "metadata": {},
   "outputs": [
    {
     "data": {
      "text/plain": [
       "1.15"
      ]
     },
     "execution_count": 40,
     "metadata": {},
     "output_type": "execute_result"
    }
   ],
   "source": [
    "1.15"
   ]
  },
  {
   "cell_type": "code",
   "execution_count": 41,
   "id": "85efad94",
   "metadata": {},
   "outputs": [],
   "source": [
    "############ for "
   ]
  },
  {
   "cell_type": "code",
   "execution_count": 42,
   "id": "78cfd008",
   "metadata": {},
   "outputs": [],
   "source": [
    "# for var in iterable:\n",
    "#     pass"
   ]
  },
  {
   "cell_type": "code",
   "execution_count": 43,
   "id": "92949fc3",
   "metadata": {},
   "outputs": [
    {
     "ename": "TypeError",
     "evalue": "argument of type 'int' is not iterable",
     "output_type": "error",
     "traceback": [
      "\u001b[1;31m---------------------------------------------------------------------------\u001b[0m",
      "\u001b[1;31mTypeError\u001b[0m                                 Traceback (most recent call last)",
      "\u001b[1;32m~\\AppData\\Local\\Temp/ipykernel_6212/531440812.py\u001b[0m in \u001b[0;36m<module>\u001b[1;34m\u001b[0m\n\u001b[1;32m----> 1\u001b[1;33m \u001b[1;36m12\u001b[0m \u001b[1;32min\u001b[0m \u001b[1;36m1234566\u001b[0m\u001b[1;33m\u001b[0m\u001b[1;33m\u001b[0m\u001b[0m\n\u001b[0m",
      "\u001b[1;31mTypeError\u001b[0m: argument of type 'int' is not iterable"
     ]
    }
   ],
   "source": [
    "12 in 1234566"
   ]
  },
  {
   "cell_type": "code",
   "execution_count": 45,
   "id": "6f2fd1e8",
   "metadata": {},
   "outputs": [
    {
     "data": {
      "text/plain": [
       "True"
      ]
     },
     "execution_count": 45,
     "metadata": {},
     "output_type": "execute_result"
    }
   ],
   "source": [
    "'12'  in '1234566'"
   ]
  },
  {
   "cell_type": "code",
   "execution_count": 46,
   "id": "35f6cebf",
   "metadata": {},
   "outputs": [
    {
     "name": "stdout",
     "output_type": "stream",
     "text": [
      "p\n",
      "y\n",
      "t\n",
      "h\n",
      "o\n",
      "n\n"
     ]
    }
   ],
   "source": [
    "for v in 'python':\n",
    "    print(v)"
   ]
  },
  {
   "cell_type": "code",
   "execution_count": 47,
   "id": "f07d478d",
   "metadata": {},
   "outputs": [
    {
     "name": "stdout",
     "output_type": "stream",
     "text": [
      "python\n",
      "java\n",
      "c/cpp\n",
      "html\n",
      "c#\n"
     ]
    }
   ],
   "source": [
    "for v in ['python' , 'java', 'c/cpp', 'html', 'c#']:\n",
    "    print(v)"
   ]
  },
  {
   "cell_type": "code",
   "execution_count": 48,
   "id": "ac48164e",
   "metadata": {},
   "outputs": [
    {
     "name": "stdout",
     "output_type": "stream",
     "text": [
      "c#\n",
      "python\n",
      "c/cpp\n",
      "html\n",
      "java\n"
     ]
    }
   ],
   "source": [
    "for v in {'python' , 'java', 'c/cpp', 'html', 'c#'}:\n",
    "    print(v)"
   ]
  },
  {
   "cell_type": "code",
   "execution_count": 49,
   "id": "df9ec361",
   "metadata": {},
   "outputs": [
    {
     "name": "stdout",
     "output_type": "stream",
     "text": [
      "python\n",
      "java\n",
      "c/cpp\n",
      "html\n",
      "c#\n"
     ]
    }
   ],
   "source": [
    "d = {'python':100 , 'java':2000, 'c/cpp':432, 'html':6654, 'c#':9767}\n",
    "for v in d:\n",
    "    print(v)"
   ]
  },
  {
   "cell_type": "code",
   "execution_count": 50,
   "id": "4944e105",
   "metadata": {},
   "outputs": [
    {
     "name": "stdout",
     "output_type": "stream",
     "text": [
      "100\n",
      "2000\n",
      "432\n",
      "6654\n",
      "9767\n"
     ]
    }
   ],
   "source": [
    "d = {'python':100 , 'java':2000, 'c/cpp':432, 'html':6654, 'c#':9767}\n",
    "for v in d.values():\n",
    "    print(v)"
   ]
  },
  {
   "cell_type": "code",
   "execution_count": 51,
   "id": "326ecc15",
   "metadata": {},
   "outputs": [
    {
     "name": "stdout",
     "output_type": "stream",
     "text": [
      "('python', 100)\n",
      "('java', 2000)\n",
      "('c/cpp', 432)\n",
      "('html', 6654)\n",
      "('c#', 9767)\n"
     ]
    }
   ],
   "source": [
    "d = {'python':100 , 'java':2000, 'c/cpp':432, 'html':6654, 'c#':9767}\n",
    "for v in d.items():\n",
    "    print(v)"
   ]
  },
  {
   "cell_type": "code",
   "execution_count": 52,
   "id": "6471bf5b",
   "metadata": {},
   "outputs": [
    {
     "name": "stdout",
     "output_type": "stream",
     "text": [
      "0\n",
      "1\n",
      "2\n"
     ]
    }
   ],
   "source": [
    "d = {}\n",
    "for n in range(3):\n",
    "    print(n)"
   ]
  },
  {
   "cell_type": "code",
   "execution_count": 53,
   "id": "973bb32e",
   "metadata": {},
   "outputs": [
    {
     "name": "stdout",
     "output_type": "stream",
     "text": [
      "Enter Salary ? 100\n",
      "Enter Emp name ? a\n",
      "Enter Salary ? 300\n",
      "Enter Emp name ? b\n",
      "Enter Salary ? 432\n",
      "Enter Emp name ? c\n"
     ]
    }
   ],
   "source": [
    "d = {}\n",
    "for n in range(3):\n",
    "    d[input('Enter Emp name ? ')] = float(input('Enter Salary ? '))"
   ]
  },
  {
   "cell_type": "code",
   "execution_count": 54,
   "id": "98d95305",
   "metadata": {},
   "outputs": [
    {
     "data": {
      "text/plain": [
       "{'a': 100.0, 'b': 300.0, 'c': 432.0}"
      ]
     },
     "execution_count": 54,
     "metadata": {},
     "output_type": "execute_result"
    }
   ],
   "source": [
    "d"
   ]
  },
  {
   "cell_type": "code",
   "execution_count": 55,
   "id": "17a201f0",
   "metadata": {},
   "outputs": [],
   "source": [
    "d = {}\n",
    "d['a'] = 90\n",
    "d['b'] = 98"
   ]
  },
  {
   "cell_type": "code",
   "execution_count": 56,
   "id": "094df0ec",
   "metadata": {},
   "outputs": [
    {
     "data": {
      "text/plain": [
       "{'a': 90, 'b': 98}"
      ]
     },
     "execution_count": 56,
     "metadata": {},
     "output_type": "execute_result"
    }
   ],
   "source": [
    "d"
   ]
  },
  {
   "cell_type": "code",
   "execution_count": 57,
   "id": "b652f4b7",
   "metadata": {},
   "outputs": [],
   "source": [
    "# d = {}\n",
    "# for n in range(3):\n",
    "#     n = input('Enter Emp name ? ')\n",
    "#     v = float(input('Enter Salary ? '))\n",
    "#     d[n] = v"
   ]
  },
  {
   "cell_type": "code",
   "execution_count": 58,
   "id": "e68705d1",
   "metadata": {},
   "outputs": [
    {
     "name": "stdout",
     "output_type": "stream",
     "text": [
      "1\n",
      "2\n",
      "3\n",
      "4\n",
      "5\n",
      "6\n",
      "7\n",
      "8\n",
      "9\n",
      "10\n"
     ]
    }
   ],
   "source": [
    "for n in range(1,11):\n",
    "    print(n)"
   ]
  },
  {
   "cell_type": "code",
   "execution_count": 59,
   "id": "ef07db18",
   "metadata": {},
   "outputs": [
    {
     "name": "stdout",
     "output_type": "stream",
     "text": [
      "2\n",
      "4\n",
      "6\n",
      "8\n",
      "10\n",
      "12\n",
      "14\n",
      "16\n",
      "18\n",
      "20\n"
     ]
    }
   ],
   "source": [
    "for n in range(1,11):\n",
    "    print(n*2)"
   ]
  },
  {
   "cell_type": "code",
   "execution_count": 66,
   "id": "4a12c212",
   "metadata": {},
   "outputs": [
    {
     "name": "stdout",
     "output_type": "stream",
     "text": [
      "False\n"
     ]
    }
   ],
   "source": [
    "num = 25\n",
    "v = True\n",
    "for n in range(2,num):\n",
    "    if num%n == 0:\n",
    "        v = False\n",
    "print(v)"
   ]
  },
  {
   "cell_type": "code",
   "execution_count": null,
   "id": "93fe86ba",
   "metadata": {},
   "outputs": [],
   "source": [
    "num = 25\n",
    "v = True\n",
    "for n in range(2,num):\n",
    "    if num%n == 0:\n",
    "        v = False\n",
    "print(v)"
   ]
  }
 ],
 "metadata": {
  "kernelspec": {
   "display_name": "Python 3 (ipykernel)",
   "language": "python",
   "name": "python3"
  },
  "language_info": {
   "codemirror_mode": {
    "name": "ipython",
    "version": 3
   },
   "file_extension": ".py",
   "mimetype": "text/x-python",
   "name": "python",
   "nbconvert_exporter": "python",
   "pygments_lexer": "ipython3",
   "version": "3.9.6"
  }
 },
 "nbformat": 4,
 "nbformat_minor": 5
}
