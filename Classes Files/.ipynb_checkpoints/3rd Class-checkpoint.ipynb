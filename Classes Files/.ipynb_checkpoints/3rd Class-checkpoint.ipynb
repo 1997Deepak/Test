{
 "cells": [
  {
   "cell_type": "code",
   "execution_count": 1,
   "id": "2231a5e0",
   "metadata": {},
   "outputs": [],
   "source": [
    "s  = {}"
   ]
  },
  {
   "cell_type": "code",
   "execution_count": 2,
   "id": "84b8251e",
   "metadata": {},
   "outputs": [
    {
     "data": {
      "text/plain": [
       "dict"
      ]
     },
     "execution_count": 2,
     "metadata": {},
     "output_type": "execute_result"
    }
   ],
   "source": [
    "type(s)"
   ]
  },
  {
   "cell_type": "code",
   "execution_count": 3,
   "id": "6cf55437",
   "metadata": {},
   "outputs": [
    {
     "data": {
      "text/plain": [
       "set"
      ]
     },
     "execution_count": 3,
     "metadata": {},
     "output_type": "execute_result"
    }
   ],
   "source": [
    "s  = {1}\n",
    "type(s)"
   ]
  },
  {
   "cell_type": "code",
   "execution_count": 4,
   "id": "b71d538f",
   "metadata": {},
   "outputs": [
    {
     "data": {
      "text/plain": [
       "set"
      ]
     },
     "execution_count": 4,
     "metadata": {},
     "output_type": "execute_result"
    }
   ],
   "source": [
    "s  = {1,1,1,1,1,1,2,2,2,3,3,3,3,4,4,4,5,5,6,6,7,8,8,0}\n",
    "type(s)"
   ]
  },
  {
   "cell_type": "code",
   "execution_count": 5,
   "id": "3ec362af",
   "metadata": {},
   "outputs": [
    {
     "data": {
      "text/plain": [
       "{0, 1, 2, 3, 4, 5, 6, 7, 8}"
      ]
     },
     "execution_count": 5,
     "metadata": {},
     "output_type": "execute_result"
    }
   ],
   "source": [
    "s"
   ]
  },
  {
   "cell_type": "code",
   "execution_count": 6,
   "id": "0d789588",
   "metadata": {},
   "outputs": [],
   "source": [
    "ls = [1,2,3,4,3,2,1,2,3,4,3,2,1,2]"
   ]
  },
  {
   "cell_type": "code",
   "execution_count": 7,
   "id": "6c4e2feb",
   "metadata": {},
   "outputs": [
    {
     "data": {
      "text/plain": [
       "[1, 2, 3, 4, 3, 2, 1, 2, 3, 4, 3, 2, 1, 2]"
      ]
     },
     "execution_count": 7,
     "metadata": {},
     "output_type": "execute_result"
    }
   ],
   "source": [
    "ls"
   ]
  },
  {
   "cell_type": "code",
   "execution_count": 8,
   "id": "92b4134d",
   "metadata": {},
   "outputs": [
    {
     "data": {
      "text/plain": [
       "{1, 2, 3, 4}"
      ]
     },
     "execution_count": 8,
     "metadata": {},
     "output_type": "execute_result"
    }
   ],
   "source": [
    "s1 = set(ls)\n",
    "s1"
   ]
  },
  {
   "cell_type": "code",
   "execution_count": 9,
   "id": "30c9c6ae",
   "metadata": {},
   "outputs": [
    {
     "data": {
      "text/plain": [
       "[0, 1, 2, 3, 4, 5, 6, 7, 8]"
      ]
     },
     "execution_count": 9,
     "metadata": {},
     "output_type": "execute_result"
    }
   ],
   "source": [
    "list(s)"
   ]
  },
  {
   "cell_type": "code",
   "execution_count": 11,
   "id": "e841a0d0",
   "metadata": {},
   "outputs": [],
   "source": [
    "s1 = {1,2,3,6,7,8}\n",
    "s2 = {3,4,5,6,9,10}"
   ]
  },
  {
   "cell_type": "code",
   "execution_count": 12,
   "id": "1260e3c8",
   "metadata": {},
   "outputs": [
    {
     "data": {
      "text/plain": [
       "{1, 2, 7, 8}"
      ]
     },
     "execution_count": 12,
     "metadata": {},
     "output_type": "execute_result"
    }
   ],
   "source": [
    "s1 - s2 # s1"
   ]
  },
  {
   "cell_type": "code",
   "execution_count": 13,
   "id": "be281380",
   "metadata": {},
   "outputs": [
    {
     "data": {
      "text/plain": [
       "{4, 5, 9, 10}"
      ]
     },
     "execution_count": 13,
     "metadata": {},
     "output_type": "execute_result"
    }
   ],
   "source": [
    "s2 - s1 # s2"
   ]
  },
  {
   "cell_type": "code",
   "execution_count": 15,
   "id": "96c91cfe",
   "metadata": {},
   "outputs": [],
   "source": [
    "# dir(s)"
   ]
  },
  {
   "cell_type": "code",
   "execution_count": 16,
   "id": "6525acf5",
   "metadata": {},
   "outputs": [
    {
     "data": {
      "text/plain": [
       "dict"
      ]
     },
     "execution_count": 16,
     "metadata": {},
     "output_type": "execute_result"
    }
   ],
   "source": [
    "dict"
   ]
  },
  {
   "cell_type": "code",
   "execution_count": 17,
   "id": "b2445897",
   "metadata": {},
   "outputs": [],
   "source": [
    "d = {'name':'Madrid', 'address':'saket', 1:'one' , 'age':23, 'list':[78,90],\n",
    "    'dict':{'a':7,'b':6}}"
   ]
  },
  {
   "cell_type": "code",
   "execution_count": 18,
   "id": "37990609",
   "metadata": {},
   "outputs": [
    {
     "data": {
      "text/plain": [
       "{'name': 'Madrid',\n",
       " 'address': 'saket',\n",
       " 1: 'one',\n",
       " 'age': 23,\n",
       " 'list': [78, 90],\n",
       " 'dict': {'a': 7, 'b': 6}}"
      ]
     },
     "execution_count": 18,
     "metadata": {},
     "output_type": "execute_result"
    }
   ],
   "source": [
    "d"
   ]
  },
  {
   "cell_type": "code",
   "execution_count": 19,
   "id": "9b8394b0",
   "metadata": {},
   "outputs": [
    {
     "data": {
      "text/plain": [
       "'Madrid'"
      ]
     },
     "execution_count": 19,
     "metadata": {},
     "output_type": "execute_result"
    }
   ],
   "source": [
    "d['name']"
   ]
  },
  {
   "cell_type": "code",
   "execution_count": 20,
   "id": "1c7bf2d3",
   "metadata": {},
   "outputs": [
    {
     "data": {
      "text/plain": [
       "'one'"
      ]
     },
     "execution_count": 20,
     "metadata": {},
     "output_type": "execute_result"
    }
   ],
   "source": [
    "d[1]"
   ]
  },
  {
   "cell_type": "code",
   "execution_count": 21,
   "id": "46870962",
   "metadata": {},
   "outputs": [
    {
     "data": {
      "text/plain": [
       "[78, 90]"
      ]
     },
     "execution_count": 21,
     "metadata": {},
     "output_type": "execute_result"
    }
   ],
   "source": [
    "d['list']"
   ]
  },
  {
   "cell_type": "code",
   "execution_count": 22,
   "id": "1bc73eac",
   "metadata": {},
   "outputs": [
    {
     "data": {
      "text/plain": [
       "78"
      ]
     },
     "execution_count": 22,
     "metadata": {},
     "output_type": "execute_result"
    }
   ],
   "source": [
    "d['list'][0]"
   ]
  },
  {
   "cell_type": "code",
   "execution_count": 23,
   "id": "3a8aaf9f",
   "metadata": {},
   "outputs": [
    {
     "data": {
      "text/plain": [
       "[90, 78]"
      ]
     },
     "execution_count": 23,
     "metadata": {},
     "output_type": "execute_result"
    }
   ],
   "source": [
    "d['list'][::-1]"
   ]
  },
  {
   "cell_type": "code",
   "execution_count": 24,
   "id": "8609bad3",
   "metadata": {},
   "outputs": [
    {
     "data": {
      "text/plain": [
       "'saket'"
      ]
     },
     "execution_count": 24,
     "metadata": {},
     "output_type": "execute_result"
    }
   ],
   "source": [
    "d['address']"
   ]
  },
  {
   "cell_type": "code",
   "execution_count": 25,
   "id": "0ac47128",
   "metadata": {},
   "outputs": [],
   "source": [
    "d['address'] = 'saket Ⓜ metro'"
   ]
  },
  {
   "cell_type": "code",
   "execution_count": 26,
   "id": "dafa820e",
   "metadata": {},
   "outputs": [
    {
     "data": {
      "text/plain": [
       "{'name': 'Madrid',\n",
       " 'address': 'saket Ⓜ metro',\n",
       " 1: 'one',\n",
       " 'age': 23,\n",
       " 'list': [78, 90],\n",
       " 'dict': {'a': 7, 'b': 6}}"
      ]
     },
     "execution_count": 26,
     "metadata": {},
     "output_type": "execute_result"
    }
   ],
   "source": [
    "d"
   ]
  },
  {
   "cell_type": "code",
   "execution_count": 27,
   "id": "e82f68a9",
   "metadata": {},
   "outputs": [],
   "source": [
    "del d[1]"
   ]
  },
  {
   "cell_type": "code",
   "execution_count": 28,
   "id": "5be6590d",
   "metadata": {},
   "outputs": [
    {
     "data": {
      "text/plain": [
       "{'name': 'Madrid',\n",
       " 'address': 'saket Ⓜ metro',\n",
       " 'age': 23,\n",
       " 'list': [78, 90],\n",
       " 'dict': {'a': 7, 'b': 6}}"
      ]
     },
     "execution_count": 28,
     "metadata": {},
     "output_type": "execute_result"
    }
   ],
   "source": [
    "d"
   ]
  },
  {
   "cell_type": "code",
   "execution_count": 29,
   "id": "6fd0d4a5",
   "metadata": {},
   "outputs": [],
   "source": [
    "d[1] = 'one'"
   ]
  },
  {
   "cell_type": "code",
   "execution_count": 30,
   "id": "ba6f9539",
   "metadata": {},
   "outputs": [
    {
     "data": {
      "text/plain": [
       "{'name': 'Madrid',\n",
       " 'address': 'saket Ⓜ metro',\n",
       " 'age': 23,\n",
       " 'list': [78, 90],\n",
       " 'dict': {'a': 7, 'b': 6},\n",
       " 1: 'one'}"
      ]
     },
     "execution_count": 30,
     "metadata": {},
     "output_type": "execute_result"
    }
   ],
   "source": [
    "d"
   ]
  },
  {
   "cell_type": "code",
   "execution_count": 31,
   "id": "c97f7db6",
   "metadata": {},
   "outputs": [
    {
     "data": {
      "text/plain": [
       "{0, 1, 2, 3, 4, 5, 6, 7, 8}"
      ]
     },
     "execution_count": 31,
     "metadata": {},
     "output_type": "execute_result"
    }
   ],
   "source": [
    "s"
   ]
  },
  {
   "cell_type": "code",
   "execution_count": 32,
   "id": "19905fe1",
   "metadata": {},
   "outputs": [
    {
     "ename": "TypeError",
     "evalue": "'set' object is not subscriptable",
     "output_type": "error",
     "traceback": [
      "\u001b[1;31m---------------------------------------------------------------------------\u001b[0m",
      "\u001b[1;31mTypeError\u001b[0m                                 Traceback (most recent call last)",
      "\u001b[1;32m~\\AppData\\Local\\Temp/ipykernel_6212/243613605.py\u001b[0m in \u001b[0;36m<module>\u001b[1;34m\u001b[0m\n\u001b[1;32m----> 1\u001b[1;33m \u001b[0ms\u001b[0m\u001b[1;33m[\u001b[0m\u001b[1;36m0\u001b[0m\u001b[1;33m]\u001b[0m\u001b[1;33m\u001b[0m\u001b[1;33m\u001b[0m\u001b[0m\n\u001b[0m",
      "\u001b[1;31mTypeError\u001b[0m: 'set' object is not subscriptable"
     ]
    }
   ],
   "source": [
    "s[0]"
   ]
  },
  {
   "cell_type": "code",
   "execution_count": 33,
   "id": "8b6b16f6",
   "metadata": {},
   "outputs": [],
   "source": [
    "####################"
   ]
  },
  {
   "cell_type": "code",
   "execution_count": 34,
   "id": "1b4a0d8f",
   "metadata": {},
   "outputs": [],
   "source": [
    "s = 'ghghghghghghghgfdfdfdfdfdfdfdfhghghg'"
   ]
  },
  {
   "cell_type": "code",
   "execution_count": 35,
   "id": "c9c2a36a",
   "metadata": {},
   "outputs": [
    {
     "data": {
      "text/plain": [
       "{'d', 'f', 'g', 'h'}"
      ]
     },
     "execution_count": 35,
     "metadata": {},
     "output_type": "execute_result"
    }
   ],
   "source": [
    "set(s)"
   ]
  },
  {
   "cell_type": "code",
   "execution_count": 36,
   "id": "51dc5f78",
   "metadata": {},
   "outputs": [],
   "source": [
    "##############"
   ]
  },
  {
   "cell_type": "code",
   "execution_count": 37,
   "id": "5d332b52",
   "metadata": {},
   "outputs": [
    {
     "data": {
      "text/plain": [
       "range(0, 10)"
      ]
     },
     "execution_count": 37,
     "metadata": {},
     "output_type": "execute_result"
    }
   ],
   "source": [
    "range(10)"
   ]
  },
  {
   "cell_type": "code",
   "execution_count": 38,
   "id": "b76cadb9",
   "metadata": {},
   "outputs": [
    {
     "data": {
      "text/plain": [
       "(0, 1, 2, 3, 4, 5, 6, 7, 8, 9)"
      ]
     },
     "execution_count": 38,
     "metadata": {},
     "output_type": "execute_result"
    }
   ],
   "source": [
    "tuple(range(10))"
   ]
  },
  {
   "cell_type": "code",
   "execution_count": 39,
   "id": "6dc73cf0",
   "metadata": {},
   "outputs": [
    {
     "data": {
      "text/plain": [
       "(1, 2, 3, 4, 5, 6, 7, 8, 9)"
      ]
     },
     "execution_count": 39,
     "metadata": {},
     "output_type": "execute_result"
    }
   ],
   "source": [
    "tuple(range(1,10))"
   ]
  },
  {
   "cell_type": "code",
   "execution_count": 40,
   "id": "150b9f3e",
   "metadata": {},
   "outputs": [
    {
     "data": {
      "text/plain": [
       "(1, 2, 3, 4, 5, 6, 7, 8, 9, 10)"
      ]
     },
     "execution_count": 40,
     "metadata": {},
     "output_type": "execute_result"
    }
   ],
   "source": [
    "tuple(range(1,11))"
   ]
  },
  {
   "cell_type": "code",
   "execution_count": 41,
   "id": "6b9aa43e",
   "metadata": {},
   "outputs": [
    {
     "data": {
      "text/plain": [
       "(6, 7, 8, 9, 10)"
      ]
     },
     "execution_count": 41,
     "metadata": {},
     "output_type": "execute_result"
    }
   ],
   "source": [
    "tuple(range(6,11))"
   ]
  },
  {
   "cell_type": "code",
   "execution_count": 42,
   "id": "4c82b557",
   "metadata": {},
   "outputs": [
    {
     "data": {
      "text/plain": [
       "(1, 3, 5, 7, 9)"
      ]
     },
     "execution_count": 42,
     "metadata": {},
     "output_type": "execute_result"
    }
   ],
   "source": [
    "tuple(range(1,11,2))"
   ]
  },
  {
   "cell_type": "code",
   "execution_count": 43,
   "id": "02742091",
   "metadata": {},
   "outputs": [
    {
     "data": {
      "text/plain": [
       "(1, 21, 41, 61, 81)"
      ]
     },
     "execution_count": 43,
     "metadata": {},
     "output_type": "execute_result"
    }
   ],
   "source": [
    "tuple(range(1,101,20))"
   ]
  },
  {
   "cell_type": "code",
   "execution_count": 45,
   "id": "d3ee7494",
   "metadata": {},
   "outputs": [
    {
     "data": {
      "text/plain": [
       "(-10, -9, -8, -7, -6, -5, -4, -3, -2, -1, 0, 1, 2, 3, 4, 5, 6, 7, 8, 9, 10)"
      ]
     },
     "execution_count": 45,
     "metadata": {},
     "output_type": "execute_result"
    }
   ],
   "source": [
    "tuple(range(-10,11,1))"
   ]
  },
  {
   "cell_type": "code",
   "execution_count": 46,
   "id": "e9778b4c",
   "metadata": {},
   "outputs": [
    {
     "data": {
      "text/plain": [
       "()"
      ]
     },
     "execution_count": 46,
     "metadata": {},
     "output_type": "execute_result"
    }
   ],
   "source": [
    "tuple(range(10,0))"
   ]
  },
  {
   "cell_type": "code",
   "execution_count": 47,
   "id": "a3075cb5",
   "metadata": {},
   "outputs": [
    {
     "data": {
      "text/plain": [
       "(10, 9, 8, 7, 6, 5, 4, 3, 2, 1)"
      ]
     },
     "execution_count": 47,
     "metadata": {},
     "output_type": "execute_result"
    }
   ],
   "source": [
    "tuple(range(10,0,-1))"
   ]
  },
  {
   "cell_type": "code",
   "execution_count": 48,
   "id": "425e9dd3",
   "metadata": {},
   "outputs": [
    {
     "data": {
      "text/plain": [
       "(10, 9, 8, 7, 6, 5, 4, 3, 2, 1, 0, -1, -2, -3, -4, -5, -6, -7, -8, -9, -10)"
      ]
     },
     "execution_count": 48,
     "metadata": {},
     "output_type": "execute_result"
    }
   ],
   "source": [
    "tuple(range(10,-11,-1))"
   ]
  },
  {
   "cell_type": "code",
   "execution_count": 49,
   "id": "1dd8444a",
   "metadata": {},
   "outputs": [],
   "source": [
    "t = tuple(range(10,-11,-1))"
   ]
  },
  {
   "cell_type": "code",
   "execution_count": 52,
   "id": "d69e1b29",
   "metadata": {},
   "outputs": [
    {
     "data": {
      "text/plain": [
       "(-10, -9, -8, -7, -6, -5, -4, -3, -2, -1, 0, 1, 2, 3, 4, 5, 6, 7, 8, 9, 10)"
      ]
     },
     "execution_count": 52,
     "metadata": {},
     "output_type": "execute_result"
    }
   ],
   "source": [
    "t[::-1]"
   ]
  },
  {
   "cell_type": "code",
   "execution_count": 53,
   "id": "c54ce2e5",
   "metadata": {},
   "outputs": [],
   "source": [
    "l = [12,34,45,67,78,89,90]"
   ]
  },
  {
   "cell_type": "code",
   "execution_count": 54,
   "id": "9362acdd",
   "metadata": {},
   "outputs": [
    {
     "data": {
      "text/plain": [
       "12"
      ]
     },
     "execution_count": 54,
     "metadata": {},
     "output_type": "execute_result"
    }
   ],
   "source": [
    "l[0]"
   ]
  },
  {
   "cell_type": "code",
   "execution_count": 55,
   "id": "e355fc62",
   "metadata": {},
   "outputs": [
    {
     "data": {
      "text/plain": [
       "90"
      ]
     },
     "execution_count": 55,
     "metadata": {},
     "output_type": "execute_result"
    }
   ],
   "source": [
    "l[6]"
   ]
  },
  {
   "cell_type": "code",
   "execution_count": 56,
   "id": "5a5d887e",
   "metadata": {},
   "outputs": [
    {
     "ename": "IndexError",
     "evalue": "list index out of range",
     "output_type": "error",
     "traceback": [
      "\u001b[1;31m---------------------------------------------------------------------------\u001b[0m",
      "\u001b[1;31mIndexError\u001b[0m                                Traceback (most recent call last)",
      "\u001b[1;32m~\\AppData\\Local\\Temp/ipykernel_6212/1547958108.py\u001b[0m in \u001b[0;36m<module>\u001b[1;34m\u001b[0m\n\u001b[1;32m----> 1\u001b[1;33m \u001b[0ml\u001b[0m\u001b[1;33m[\u001b[0m\u001b[1;36m7\u001b[0m\u001b[1;33m]\u001b[0m\u001b[1;33m\u001b[0m\u001b[1;33m\u001b[0m\u001b[0m\n\u001b[0m",
      "\u001b[1;31mIndexError\u001b[0m: list index out of range"
     ]
    }
   ],
   "source": [
    "l[7]"
   ]
  },
  {
   "cell_type": "code",
   "execution_count": 57,
   "id": "f3e6e09e",
   "metadata": {},
   "outputs": [
    {
     "data": {
      "text/plain": [
       "[12, 34, 45, 67, 78, 89, 90]"
      ]
     },
     "execution_count": 57,
     "metadata": {},
     "output_type": "execute_result"
    }
   ],
   "source": [
    "l[::]"
   ]
  },
  {
   "cell_type": "code",
   "execution_count": 58,
   "id": "f5b4ffd8",
   "metadata": {},
   "outputs": [],
   "source": [
    "###########################"
   ]
  },
  {
   "cell_type": "code",
   "execution_count": 59,
   "id": "b9013ac7",
   "metadata": {},
   "outputs": [],
   "source": [
    "# + - * / // %  **"
   ]
  },
  {
   "cell_type": "code",
   "execution_count": 60,
   "id": "b023befc",
   "metadata": {},
   "outputs": [
    {
     "data": {
      "text/plain": [
       "35"
      ]
     },
     "execution_count": 60,
     "metadata": {},
     "output_type": "execute_result"
    }
   ],
   "source": [
    "12+23"
   ]
  },
  {
   "cell_type": "code",
   "execution_count": 61,
   "id": "e9e5d9c7",
   "metadata": {},
   "outputs": [
    {
     "data": {
      "text/plain": [
       "20"
      ]
     },
     "execution_count": 61,
     "metadata": {},
     "output_type": "execute_result"
    }
   ],
   "source": [
    "23-3"
   ]
  },
  {
   "cell_type": "code",
   "execution_count": 62,
   "id": "995536a8",
   "metadata": {},
   "outputs": [
    {
     "data": {
      "text/plain": [
       "12.3"
      ]
     },
     "execution_count": 62,
     "metadata": {},
     "output_type": "execute_result"
    }
   ],
   "source": [
    "123/10"
   ]
  },
  {
   "cell_type": "code",
   "execution_count": 63,
   "id": "e8e2b48f",
   "metadata": {},
   "outputs": [
    {
     "data": {
      "text/plain": [
       "4"
      ]
     },
     "execution_count": 63,
     "metadata": {},
     "output_type": "execute_result"
    }
   ],
   "source": [
    "2*2"
   ]
  },
  {
   "cell_type": "code",
   "execution_count": 65,
   "id": "6c00727a",
   "metadata": {},
   "outputs": [
    {
     "data": {
      "text/plain": [
       "0"
      ]
     },
     "execution_count": 65,
     "metadata": {},
     "output_type": "execute_result"
    }
   ],
   "source": [
    "12 + 10 - 32 - 2 + 12"
   ]
  },
  {
   "cell_type": "code",
   "execution_count": 66,
   "id": "a6275a87",
   "metadata": {},
   "outputs": [
    {
     "data": {
      "text/plain": [
       "12"
      ]
     },
     "execution_count": 66,
     "metadata": {},
     "output_type": "execute_result"
    }
   ],
   "source": [
    "123//10"
   ]
  },
  {
   "cell_type": "code",
   "execution_count": 67,
   "id": "42c09c97",
   "metadata": {},
   "outputs": [
    {
     "data": {
      "text/plain": [
       "3"
      ]
     },
     "execution_count": 67,
     "metadata": {},
     "output_type": "execute_result"
    }
   ],
   "source": [
    "123%10"
   ]
  },
  {
   "cell_type": "code",
   "execution_count": 68,
   "id": "33d8d955",
   "metadata": {},
   "outputs": [
    {
     "data": {
      "text/plain": [
       "0"
      ]
     },
     "execution_count": 68,
     "metadata": {},
     "output_type": "execute_result"
    }
   ],
   "source": [
    "12%2"
   ]
  },
  {
   "cell_type": "code",
   "execution_count": 70,
   "id": "6c6c57f0",
   "metadata": {},
   "outputs": [
    {
     "data": {
      "text/plain": [
       "True"
      ]
     },
     "execution_count": 70,
     "metadata": {},
     "output_type": "execute_result"
    }
   ],
   "source": [
    "12%2 == 0"
   ]
  },
  {
   "cell_type": "code",
   "execution_count": 71,
   "id": "a19e8992",
   "metadata": {},
   "outputs": [],
   "source": [
    "######3 membership"
   ]
  },
  {
   "cell_type": "code",
   "execution_count": 72,
   "id": "df0cdfd5",
   "metadata": {},
   "outputs": [],
   "source": [
    "# in , not in"
   ]
  },
  {
   "cell_type": "code",
   "execution_count": 73,
   "id": "57fe6450",
   "metadata": {},
   "outputs": [
    {
     "data": {
      "text/plain": [
       "True"
      ]
     },
     "execution_count": 73,
     "metadata": {},
     "output_type": "execute_result"
    }
   ],
   "source": [
    "12 in [12,23,34,45,56,9]"
   ]
  },
  {
   "cell_type": "code",
   "execution_count": 74,
   "id": "b8670133",
   "metadata": {},
   "outputs": [
    {
     "data": {
      "text/plain": [
       "False"
      ]
     },
     "execution_count": 74,
     "metadata": {},
     "output_type": "execute_result"
    }
   ],
   "source": [
    "12 in [102,23,34,45,56,9]"
   ]
  },
  {
   "cell_type": "code",
   "execution_count": 75,
   "id": "dfe1cce4",
   "metadata": {},
   "outputs": [
    {
     "data": {
      "text/plain": [
       "False"
      ]
     },
     "execution_count": 75,
     "metadata": {},
     "output_type": "execute_result"
    }
   ],
   "source": [
    "12 in (102,23,34,45,56,9)"
   ]
  },
  {
   "cell_type": "code",
   "execution_count": 76,
   "id": "7d8c4216",
   "metadata": {},
   "outputs": [
    {
     "data": {
      "text/plain": [
       "True"
      ]
     },
     "execution_count": 76,
     "metadata": {},
     "output_type": "execute_result"
    }
   ],
   "source": [
    "'py' in 'python'"
   ]
  },
  {
   "cell_type": "code",
   "execution_count": 77,
   "id": "daab561c",
   "metadata": {},
   "outputs": [
    {
     "data": {
      "text/plain": [
       "True"
      ]
     },
     "execution_count": 77,
     "metadata": {},
     "output_type": "execute_result"
    }
   ],
   "source": [
    "'a' in {'a':10, 'b':89}"
   ]
  },
  {
   "cell_type": "code",
   "execution_count": 78,
   "id": "2006e4da",
   "metadata": {},
   "outputs": [
    {
     "data": {
      "text/plain": [
       "True"
      ]
     },
     "execution_count": 78,
     "metadata": {},
     "output_type": "execute_result"
    }
   ],
   "source": [
    "'b' in {'a':10, 'b':89}"
   ]
  },
  {
   "cell_type": "code",
   "execution_count": 81,
   "id": "42d7a61a",
   "metadata": {},
   "outputs": [
    {
     "data": {
      "text/plain": [
       "True"
      ]
     },
     "execution_count": 81,
     "metadata": {},
     "output_type": "execute_result"
    }
   ],
   "source": [
    "10 not in {'a':10, 'b':89}"
   ]
  },
  {
   "cell_type": "code",
   "execution_count": 80,
   "id": "e34c4f69",
   "metadata": {},
   "outputs": [],
   "source": [
    "#############"
   ]
  },
  {
   "cell_type": "code",
   "execution_count": 82,
   "id": "33bdb313",
   "metadata": {},
   "outputs": [],
   "source": [
    "## identity operator"
   ]
  },
  {
   "cell_type": "code",
   "execution_count": 83,
   "id": "f5b0a1b3",
   "metadata": {},
   "outputs": [],
   "source": [
    "# is , is not"
   ]
  },
  {
   "cell_type": "code",
   "execution_count": 84,
   "id": "575b271e",
   "metadata": {},
   "outputs": [
    {
     "data": {
      "text/plain": [
       "True"
      ]
     },
     "execution_count": 84,
     "metadata": {},
     "output_type": "execute_result"
    }
   ],
   "source": [
    "type(23) is int"
   ]
  },
  {
   "cell_type": "code",
   "execution_count": 85,
   "id": "9d006cd5",
   "metadata": {},
   "outputs": [
    {
     "data": {
      "text/plain": [
       "False"
      ]
     },
     "execution_count": 85,
     "metadata": {},
     "output_type": "execute_result"
    }
   ],
   "source": [
    "type(23.0) is int"
   ]
  },
  {
   "cell_type": "code",
   "execution_count": 86,
   "id": "ac863e18",
   "metadata": {},
   "outputs": [
    {
     "data": {
      "text/plain": [
       "True"
      ]
     },
     "execution_count": 86,
     "metadata": {},
     "output_type": "execute_result"
    }
   ],
   "source": [
    "type(23.0) is float"
   ]
  },
  {
   "cell_type": "code",
   "execution_count": 87,
   "id": "4dd99118",
   "metadata": {},
   "outputs": [
    {
     "data": {
      "text/plain": [
       "False"
      ]
     },
     "execution_count": 87,
     "metadata": {},
     "output_type": "execute_result"
    }
   ],
   "source": [
    "type[(23.0),(23,34)] is float"
   ]
  },
  {
   "cell_type": "code",
   "execution_count": 89,
   "id": "80cd293d",
   "metadata": {},
   "outputs": [
    {
     "data": {
      "text/plain": [
       "True"
      ]
     },
     "execution_count": 89,
     "metadata": {},
     "output_type": "execute_result"
    }
   ],
   "source": [
    "type([(23.0),(23,34)] )is list"
   ]
  },
  {
   "cell_type": "code",
   "execution_count": 90,
   "id": "570bce64",
   "metadata": {},
   "outputs": [],
   "source": [
    "a = [12,23]\n",
    "b = a\n"
   ]
  },
  {
   "cell_type": "code",
   "execution_count": 91,
   "id": "51bd9d7c",
   "metadata": {},
   "outputs": [
    {
     "data": {
      "text/plain": [
       "1956418955200"
      ]
     },
     "execution_count": 91,
     "metadata": {},
     "output_type": "execute_result"
    }
   ],
   "source": [
    "id(a)"
   ]
  },
  {
   "cell_type": "code",
   "execution_count": 92,
   "id": "9b4a76c6",
   "metadata": {},
   "outputs": [
    {
     "data": {
      "text/plain": [
       "1956418955200"
      ]
     },
     "execution_count": 92,
     "metadata": {},
     "output_type": "execute_result"
    }
   ],
   "source": [
    "id(b)"
   ]
  },
  {
   "cell_type": "code",
   "execution_count": 93,
   "id": "c4610433",
   "metadata": {},
   "outputs": [
    {
     "data": {
      "text/plain": [
       "True"
      ]
     },
     "execution_count": 93,
     "metadata": {},
     "output_type": "execute_result"
    }
   ],
   "source": [
    "a is b"
   ]
  },
  {
   "cell_type": "code",
   "execution_count": 94,
   "id": "232e99df",
   "metadata": {},
   "outputs": [],
   "source": [
    "a = [12,23]\n",
    "b = a.copy()"
   ]
  },
  {
   "cell_type": "code",
   "execution_count": 96,
   "id": "1fca8724",
   "metadata": {},
   "outputs": [
    {
     "data": {
      "text/plain": [
       "(1956418280576, 1956418978048)"
      ]
     },
     "execution_count": 96,
     "metadata": {},
     "output_type": "execute_result"
    }
   ],
   "source": [
    "\n",
    "id(b),id(a)"
   ]
  },
  {
   "cell_type": "code",
   "execution_count": 97,
   "id": "0136c682",
   "metadata": {},
   "outputs": [
    {
     "data": {
      "text/plain": [
       "False"
      ]
     },
     "execution_count": 97,
     "metadata": {},
     "output_type": "execute_result"
    }
   ],
   "source": [
    "a is b"
   ]
  },
  {
   "cell_type": "code",
   "execution_count": 99,
   "id": "83787ff9",
   "metadata": {},
   "outputs": [],
   "source": [
    "# >  , <   , >= , <=, == , !="
   ]
  },
  {
   "cell_type": "code",
   "execution_count": 100,
   "id": "f98bf2c8",
   "metadata": {},
   "outputs": [
    {
     "data": {
      "text/plain": [
       "True"
      ]
     },
     "execution_count": 100,
     "metadata": {},
     "output_type": "execute_result"
    }
   ],
   "source": [
    "45 == 45"
   ]
  },
  {
   "cell_type": "code",
   "execution_count": 101,
   "id": "8bad06c9",
   "metadata": {},
   "outputs": [
    {
     "ename": "SyntaxError",
     "evalue": "cannot assign to literal (Temp/ipykernel_6212/2771241692.py, line 1)",
     "output_type": "error",
     "traceback": [
      "\u001b[1;36m  File \u001b[1;32m\"C:\\Users\\Hp\\AppData\\Local\\Temp/ipykernel_6212/2771241692.py\"\u001b[1;36m, line \u001b[1;32m1\u001b[0m\n\u001b[1;33m    45 => 45\u001b[0m\n\u001b[1;37m    ^\u001b[0m\n\u001b[1;31mSyntaxError\u001b[0m\u001b[1;31m:\u001b[0m cannot assign to literal\n"
     ]
    }
   ],
   "source": [
    "45 => 45"
   ]
  },
  {
   "cell_type": "code",
   "execution_count": 102,
   "id": "4737fff9",
   "metadata": {},
   "outputs": [
    {
     "data": {
      "text/plain": [
       "True"
      ]
     },
     "execution_count": 102,
     "metadata": {},
     "output_type": "execute_result"
    }
   ],
   "source": [
    "45 >= 45"
   ]
  },
  {
   "cell_type": "code",
   "execution_count": 103,
   "id": "43382461",
   "metadata": {},
   "outputs": [
    {
     "data": {
      "text/plain": [
       "False"
      ]
     },
     "execution_count": 103,
     "metadata": {},
     "output_type": "execute_result"
    }
   ],
   "source": [
    "45 > 45"
   ]
  },
  {
   "cell_type": "code",
   "execution_count": 104,
   "id": "23387f08",
   "metadata": {},
   "outputs": [
    {
     "data": {
      "text/plain": [
       "True"
      ]
     },
     "execution_count": 104,
     "metadata": {},
     "output_type": "execute_result"
    }
   ],
   "source": [
    "12 != 90"
   ]
  },
  {
   "cell_type": "code",
   "execution_count": 105,
   "id": "07efbffb",
   "metadata": {},
   "outputs": [],
   "source": [
    "# logical "
   ]
  },
  {
   "cell_type": "code",
   "execution_count": 106,
   "id": "cac19411",
   "metadata": {},
   "outputs": [],
   "source": [
    "# and , or , not"
   ]
  },
  {
   "cell_type": "code",
   "execution_count": 108,
   "id": "4f636d9f",
   "metadata": {},
   "outputs": [
    {
     "name": "stdout",
     "output_type": "stream",
     "text": [
      "True True\n"
     ]
    },
    {
     "data": {
      "text/plain": [
       "True"
      ]
     },
     "execution_count": 108,
     "metadata": {},
     "output_type": "execute_result"
    }
   ],
   "source": [
    "age = 20\n",
    "c1 = age>=18\n",
    "c2 = age<=26\n",
    "print(c1,c2)\n",
    "c1 and c2"
   ]
  },
  {
   "cell_type": "code",
   "execution_count": 109,
   "id": "da0def63",
   "metadata": {},
   "outputs": [
    {
     "name": "stdout",
     "output_type": "stream",
     "text": [
      "False True\n"
     ]
    },
    {
     "data": {
      "text/plain": [
       "False"
      ]
     },
     "execution_count": 109,
     "metadata": {},
     "output_type": "execute_result"
    }
   ],
   "source": [
    "age = 2\n",
    "c1 = age>=18\n",
    "c2 = age<=26\n",
    "print(c1,c2)\n",
    "c1 and c2"
   ]
  },
  {
   "cell_type": "code",
   "execution_count": 110,
   "id": "e779e618",
   "metadata": {},
   "outputs": [
    {
     "name": "stdout",
     "output_type": "stream",
     "text": [
      "True False\n"
     ]
    },
    {
     "data": {
      "text/plain": [
       "False"
      ]
     },
     "execution_count": 110,
     "metadata": {},
     "output_type": "execute_result"
    }
   ],
   "source": [
    "age = 29\n",
    "c1 = age>=18\n",
    "c2 = age<=26\n",
    "print(c1,c2)\n",
    "c1 and c2"
   ]
  },
  {
   "cell_type": "code",
   "execution_count": 111,
   "id": "d57fbd37",
   "metadata": {},
   "outputs": [
    {
     "name": "stdout",
     "output_type": "stream",
     "text": [
      "True False\n"
     ]
    },
    {
     "data": {
      "text/plain": [
       "True"
      ]
     },
     "execution_count": 111,
     "metadata": {},
     "output_type": "execute_result"
    }
   ],
   "source": [
    "age = 2\n",
    "c1 = age <=10\n",
    "c2 = age>=60\n",
    "print(c1,c2)\n",
    "c1 or c2"
   ]
  },
  {
   "cell_type": "code",
   "execution_count": 112,
   "id": "ac132463",
   "metadata": {},
   "outputs": [
    {
     "name": "stdout",
     "output_type": "stream",
     "text": [
      "False False\n"
     ]
    },
    {
     "data": {
      "text/plain": [
       "False"
      ]
     },
     "execution_count": 112,
     "metadata": {},
     "output_type": "execute_result"
    }
   ],
   "source": [
    "age = 20\n",
    "c1 = age <=10\n",
    "c2 = age>=60\n",
    "print(c1,c2)\n",
    "c1 or c2"
   ]
  },
  {
   "cell_type": "code",
   "execution_count": 113,
   "id": "8622a823",
   "metadata": {},
   "outputs": [
    {
     "name": "stdout",
     "output_type": "stream",
     "text": [
      "False True\n"
     ]
    },
    {
     "data": {
      "text/plain": [
       "True"
      ]
     },
     "execution_count": 113,
     "metadata": {},
     "output_type": "execute_result"
    }
   ],
   "source": [
    "age = 89\n",
    "c1 = age <=10\n",
    "c2 = age>=60\n",
    "print(c1,c2)\n",
    "c1 or c2"
   ]
  },
  {
   "cell_type": "code",
   "execution_count": 114,
   "id": "0c2b96c5",
   "metadata": {},
   "outputs": [],
   "source": [
    "#################"
   ]
  },
  {
   "cell_type": "code",
   "execution_count": 117,
   "id": "22374fda",
   "metadata": {},
   "outputs": [
    {
     "name": "stdout",
     "output_type": "stream",
     "text": [
      "your No. 12\n",
      "number is even\n",
      "number is odd\n",
      "done!\n"
     ]
    }
   ],
   "source": [
    "n = 12\n",
    "print('your No.',n)\n",
    "print('number is even')\n",
    "print('number is odd')\n",
    "print('done!')"
   ]
  },
  {
   "cell_type": "code",
   "execution_count": 118,
   "id": "fdda6e44",
   "metadata": {},
   "outputs": [],
   "source": [
    "# if cond:\n",
    "#     fdg\n",
    "#     dfg\n",
    "#   df\n",
    "# gdf\n",
    "    "
   ]
  },
  {
   "cell_type": "code",
   "execution_count": 119,
   "id": "c7b96368",
   "metadata": {},
   "outputs": [
    {
     "name": "stdout",
     "output_type": "stream",
     "text": [
      "your No. 11\n",
      "number is odd\n",
      "done!\n"
     ]
    }
   ],
   "source": [
    "n = 11\n",
    "print('your No.',n)\n",
    "if n%2 == 0:\n",
    "    print('number is even')\n",
    "print('number is odd')\n",
    "print('done!')"
   ]
  },
  {
   "cell_type": "code",
   "execution_count": 120,
   "id": "b0791d5e",
   "metadata": {},
   "outputs": [
    {
     "name": "stdout",
     "output_type": "stream",
     "text": [
      "your No. 10\n",
      "number is even\n",
      "number is odd\n",
      "done!\n"
     ]
    }
   ],
   "source": [
    "n = 10\n",
    "print('your No.',n)\n",
    "if n%2 == 0:\n",
    "    print('number is even')\n",
    "print('number is odd')\n",
    "print('done!')"
   ]
  },
  {
   "cell_type": "code",
   "execution_count": 122,
   "id": "955b43f2",
   "metadata": {},
   "outputs": [
    {
     "name": "stdout",
     "output_type": "stream",
     "text": [
      "your No. 1\n",
      "number is odd\n",
      "done!\n"
     ]
    }
   ],
   "source": [
    "n = 1\n",
    "print('your No.',n)\n",
    "if n%2 == 0:\n",
    "    print('number is even')\n",
    "else:\n",
    "    print('number is odd')\n",
    "print('done!')"
   ]
  },
  {
   "cell_type": "code",
   "execution_count": null,
   "id": "b6ab72ed",
   "metadata": {},
   "outputs": [],
   "source": []
  }
 ],
 "metadata": {
  "kernelspec": {
   "display_name": "Python 3 (ipykernel)",
   "language": "python",
   "name": "python3"
  },
  "language_info": {
   "codemirror_mode": {
    "name": "ipython",
    "version": 3
   },
   "file_extension": ".py",
   "mimetype": "text/x-python",
   "name": "python",
   "nbconvert_exporter": "python",
   "pygments_lexer": "ipython3",
   "version": "3.10.2"
  }
 },
 "nbformat": 4,
 "nbformat_minor": 5
}
