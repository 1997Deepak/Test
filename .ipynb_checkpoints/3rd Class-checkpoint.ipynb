{
 "cells": [
  {
   "cell_type": "code",
   "execution_count": 1,
   "id": "832c092e",
   "metadata": {},
   "outputs": [
    {
     "data": {
      "text/plain": [
       "11"
      ]
     },
     "execution_count": 1,
     "metadata": {},
     "output_type": "execute_result"
    }
   ],
   "source": [
    "45//4"
   ]
  },
  {
   "cell_type": "code",
   "execution_count": 2,
   "id": "ee95797f",
   "metadata": {},
   "outputs": [
    {
     "data": {
      "text/plain": [
       "1"
      ]
     },
     "execution_count": 2,
     "metadata": {},
     "output_type": "execute_result"
    }
   ],
   "source": [
    "45%4"
   ]
  },
  {
   "cell_type": "code",
   "execution_count": 3,
   "id": "e6626e50",
   "metadata": {},
   "outputs": [],
   "source": [
    "# membership use only for (in) & (not in) value"
   ]
  },
  {
   "cell_type": "code",
   "execution_count": 4,
   "id": "18a84368",
   "metadata": {},
   "outputs": [],
   "source": [
    "ls = (15,45,8,6,4,9,2,3,4)"
   ]
  },
  {
   "cell_type": "code",
   "execution_count": 6,
   "id": "e538fd55",
   "metadata": {},
   "outputs": [
    {
     "data": {
      "text/plain": [
       "True"
      ]
     },
     "execution_count": 6,
     "metadata": {},
     "output_type": "execute_result"
    }
   ],
   "source": [
    "4 in (ls)"
   ]
  },
  {
   "cell_type": "code",
   "execution_count": 7,
   "id": "050576a0",
   "metadata": {},
   "outputs": [],
   "source": [
    "d = \"Deepak Singh\""
   ]
  },
  {
   "cell_type": "code",
   "execution_count": 8,
   "id": "fcd9bf83",
   "metadata": {},
   "outputs": [
    {
     "data": {
      "text/plain": [
       "'Deepak Singh'"
      ]
     },
     "execution_count": 8,
     "metadata": {},
     "output_type": "execute_result"
    }
   ],
   "source": [
    "d"
   ]
  },
  {
   "cell_type": "code",
   "execution_count": 9,
   "id": "5de642ed",
   "metadata": {},
   "outputs": [
    {
     "data": {
      "text/plain": [
       "list['Deepak Singh']"
      ]
     },
     "execution_count": 9,
     "metadata": {},
     "output_type": "execute_result"
    }
   ],
   "source": [
    "list [d]"
   ]
  },
  {
   "cell_type": "code",
   "execution_count": 10,
   "id": "e39be894",
   "metadata": {},
   "outputs": [],
   "source": [
    "ls = (d)"
   ]
  },
  {
   "cell_type": "code",
   "execution_count": 11,
   "id": "d868af8c",
   "metadata": {},
   "outputs": [
    {
     "data": {
      "text/plain": [
       "'Deepak Singh'"
      ]
     },
     "execution_count": 11,
     "metadata": {},
     "output_type": "execute_result"
    }
   ],
   "source": [
    "ls"
   ]
  },
  {
   "cell_type": "code",
   "execution_count": 12,
   "id": "c72ea614",
   "metadata": {},
   "outputs": [
    {
     "data": {
      "text/plain": [
       "['D', 'e', 'e', 'p', 'a', 'k', ' ', 'S', 'i', 'n', 'g', 'h']"
      ]
     },
     "execution_count": 12,
     "metadata": {},
     "output_type": "execute_result"
    }
   ],
   "source": [
    "list (ls)"
   ]
  },
  {
   "cell_type": "code",
   "execution_count": 15,
   "id": "eb7d2db9",
   "metadata": {},
   "outputs": [
    {
     "data": {
      "text/plain": [
       "True"
      ]
     },
     "execution_count": 15,
     "metadata": {},
     "output_type": "execute_result"
    }
   ],
   "source": [
    "\"D\" in (ls)"
   ]
  },
  {
   "cell_type": "code",
   "execution_count": 17,
   "id": "d3b442cb",
   "metadata": {},
   "outputs": [
    {
     "data": {
      "text/plain": [
       "1784859889200"
      ]
     },
     "execution_count": 17,
     "metadata": {},
     "output_type": "execute_result"
    }
   ],
   "source": [
    "id(d)"
   ]
  },
  {
   "cell_type": "code",
   "execution_count": 18,
   "id": "c756fe06",
   "metadata": {},
   "outputs": [
    {
     "data": {
      "text/plain": [
       "1784859889200"
      ]
     },
     "execution_count": 18,
     "metadata": {},
     "output_type": "execute_result"
    }
   ],
   "source": [
    "id(ls)"
   ]
  },
  {
   "cell_type": "code",
   "execution_count": 19,
   "id": "d8c89815",
   "metadata": {},
   "outputs": [
    {
     "data": {
      "text/plain": [
       "140724118193680"
      ]
     },
     "execution_count": 19,
     "metadata": {},
     "output_type": "execute_result"
    }
   ],
   "source": [
    "id(list)"
   ]
  },
  {
   "cell_type": "code",
   "execution_count": 31,
   "id": "1a988171",
   "metadata": {},
   "outputs": [
    {
     "name": "stdout",
     "output_type": "stream",
     "text": [
      "Enter any number23\n",
      "You enter an Odd number\n"
     ]
    }
   ],
   "source": [
    "n = int(input('Enter any number'))\n",
    "if n%2 == 0:\n",
    "    print(\"You enter an Even number\")\n",
    "else:\n",
    "    print(\"You enter an Odd number\")"
   ]
  },
  {
   "cell_type": "code",
   "execution_count": 62,
   "id": "370b30ac",
   "metadata": {},
   "outputs": [
    {
     "name": "stdout",
     "output_type": "stream",
     "text": [
      "Enter any number-1\n",
      "You enter an Positive number\n"
     ]
    }
   ],
   "source": [
    "n = int(input('Enter any number'))\n",
    "if n%1 < 0:\n",
    "    print(\"You enter an Positive number\")\n",
    "else:\n",
    "    print(\"You enter an Negative number\")"
   ]
  },
  {
   "cell_type": "code",
   "execution_count": null,
   "id": "6fc43508",
   "metadata": {},
   "outputs": [],
   "source": []
  },
  {
   "cell_type": "code",
   "execution_count": null,
   "id": "f210d737",
   "metadata": {},
   "outputs": [],
   "source": []
  }
 ],
 "metadata": {
  "kernelspec": {
   "display_name": "Python 3 (ipykernel)",
   "language": "python",
   "name": "python3"
  },
  "language_info": {
   "codemirror_mode": {
    "name": "ipython",
    "version": 3
   },
   "file_extension": ".py",
   "mimetype": "text/x-python",
   "name": "python",
   "nbconvert_exporter": "python",
   "pygments_lexer": "ipython3",
   "version": "3.10.2"
  }
 },
 "nbformat": 4,
 "nbformat_minor": 5
}
